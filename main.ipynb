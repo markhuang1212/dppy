{
 "cells": [
  {
   "cell_type": "code",
   "execution_count": null,
   "metadata": {},
   "outputs": [],
   "source": [
    "from dp_median_binary_search import DpMedianBinarySearch\n",
    "from dp_median_inverse_sensitivity import DpMedianInverseSensitivity\n",
    "from dp_median_smooth_sensitivity import DpMedianSmoothSensitivity\n",
    "from dp_median_svt import DpMedianSvt\n",
    "\n",
    "import utils\n",
    "\n",
    "import matplotlib.pyplot as plt\n",
    "import numpy as np"
   ]
  },
  {
   "cell_type": "code",
   "execution_count": null,
   "metadata": {},
   "outputs": [],
   "source": [
    "result = np.ndarray(shape=(4, 100),dtype=int)"
   ]
  },
  {
   "cell_type": "code",
   "execution_count": null,
   "metadata": {},
   "outputs": [],
   "source": [
    "BS = DpMedianBinarySearch(epsilon=0.1)\n",
    "IS = DpMedianInverseSensitivity(epsilon=0.1)\n",
    "SVT = DpMedianSvt(epsilon=0.1)\n",
    "SS = DpMedianSmoothSensitivity(epsilon=0.1)\n",
    "\n",
    "for i in range(100):\n",
    "    data = utils.uniform_rand_array(1000, 100000)\n",
    "    result[0, i] = utils.rank_error(data, BS.answer(data))\n",
    "    result[1, i] = utils.rank_error(data, IS.answer(data))\n",
    "    result[2, i] = utils.rank_error(data, SVT.answer(data))\n",
    "    result[3, i] = utils.rank_error(data, SS.answer(data))\n",
    "    if i % 10 == 0:\n",
    "        print(i)\n",
    "\n",
    "stats = [\n",
    "    result[0].mean(),\n",
    "    result[1].mean(),\n",
    "    result[2].mean(),\n",
    "    result[3].mean()\n",
    "]\n",
    "\n",
    "stats"
   ]
  },
  {
   "cell_type": "code",
   "execution_count": null,
   "metadata": {},
   "outputs": [],
   "source": [
    "result[0]"
   ]
  },
  {
   "cell_type": "code",
   "execution_count": null,
   "metadata": {},
   "outputs": [],
   "source": []
  },
  {
   "cell_type": "code",
   "execution_count": null,
   "metadata": {},
   "outputs": [],
   "source": []
  }
 ],
 "metadata": {
  "interpreter": {
   "hash": "d4d1e4263499bec80672ea0156c357c1ee493ec2b1c70f0acce89fc37c4a6abe"
  },
  "kernelspec": {
   "display_name": "Python 3.9.5 64-bit ('base': conda)",
   "language": "python",
   "name": "python3"
  },
  "language_info": {
   "codemirror_mode": {
    "name": "ipython",
    "version": 3
   },
   "file_extension": ".py",
   "mimetype": "text/x-python",
   "name": "python",
   "nbconvert_exporter": "python",
   "pygments_lexer": "ipython3",
   "version": "3.9.5"
  },
  "orig_nbformat": 4
 },
 "nbformat": 4,
 "nbformat_minor": 2
}
